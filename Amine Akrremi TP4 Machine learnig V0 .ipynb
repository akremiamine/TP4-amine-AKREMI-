{
 "cells": [
  {
   "cell_type": "code",
   "execution_count": 19,
   "metadata": {
    "id": "8dDwiOLo5YBZ"
   },
   "outputs": [],
   "source": [
    "import requests \n",
    "from requests.auth import HTTPBasicAuth\n",
    "import json \n",
    "import numpy as np\n",
    "import pandas as pd"
   ]
  },
  {
   "cell_type": "code",
   "execution_count": 20,
   "metadata": {},
   "outputs": [],
   "source": [
    "\n",
    "from statsmodels.graphics.tsaplots import plot_acf, plot_pacf\n",
    "from statsmodels.tsa.statespace.varmax import VARMAX\n",
    "from statsmodels.tsa.api import VAR\n",
    "from statsmodels.tsa.stattools import grangercausalitytests, adfuller\n",
    "from tqdm import tqdm_notebook\n",
    "from itertools import product\n",
    "\n",
    "import matplotlib.pyplot as plt\n",
    "import statsmodels.api as sm\n",
    "import pandas as pd\n",
    "import numpy as np\n",
    "\n",
    "import warnings\n",
    "warnings.filterwarnings('ignore')"
   ]
  },
  {
   "cell_type": "code",
   "execution_count": 21,
   "metadata": {
    "colab": {
     "base_uri": "https://localhost:8080/"
    },
    "id": "UzkKEdDZ5pD9",
    "outputId": "5f65b6d1-44ad-474e-dfc9-e04fe84a4ee3"
   },
   "outputs": [
    {
     "name": "stdout",
     "output_type": "stream",
     "text": [
      "{\"id\":\"cGIG358IM97cnNab\",\"x\":\"{\\\"wconfid\\\":{\\\"0\\\":1,\\\"1\\\":1,\\\"2\\\":1,\\\"3\\\":1,\\\"4\\\":1,\\\"5\\\":1,\\\"6\\\":1,\\\"7\\\":1,\\\"8\\\":1,\\\"9\\\":1,\\\"10\\\":1,\\\"11\\\":1,\\\"12\\\":1,\\\"13\\\":1,\\\"14\\\":1,\\\"15\\\":1,\\\"16\\\":1,\\\"17\\\":1,\\\"18\\\":1,\\\"19\\\":1,\\\"20\\\":1,\\\"21\\\":1,\\\"22\\\":1,\\\"23\\\":1,\\\"24\\\":1,\\\"25\\\":1,\\\"26\\\":1,\\\"27\\\":1,\\\"28\\\":1,\\\"29\\\":1,\\\"30\\\":1,\\\"31\\\":1},\\\"pctid\\\":{\\\"0\\\":30,\\\"1\\\":30,\\\"2\\\":30,\\\"3\\\":30,\\\"4\\\":30,\\\"5\\\":30,\\\"6\\\":30,\\\"7\\\":30,\\\"8\\\":30,\\\"9\\\":30,\\\"10\\\":30,\\\"11\\\":30,\\\"12\\\":30,\\\"13\\\":30,\\\"14\\\":30,\\\"15\\\":30,\\\"16\\\":30,\\\"17\\\":30,\\\"18\\\":30,\\\"19\\\":30,\\\"20\\\":30,\\\"21\\\":30,\\\"22\\\":30,\\\"23\\\":30,\\\"24\\\":30,\\\"25\\\":30,\\\"26\\\":30,\\\"27\\\":30,\\\"28\\\":30,\\\"29\\\":30,\\\"30\\\":30,\\\"31\\\":30},\\\"x\\\":{\\\"0\\\":0.953,\\\"1\\\":0.996,\\\"2\\\":1.004,\\\"3\\\":1.008,\\\"4\\\":1.016,\\\"5\\\":1.023,\\\"6\\\":1.027,\\\"7\\\":1.004,\\\"8\\\":0.984,\\\"9\\\":1.012,\\\"10\\\":1.055,\\\"11\\\":1.023,\\\"12\\\":1.023,\\\"13\\\":1.008,\\\"14\\\":1.02,\\\"15\\\":1.043,\\\"16\\\":0.98,\\\"17\\\":0.953,\\\"18\\\":1.047,\\\"19\\\":1.004,\\\"20\\\":0.98,\\\"21\\\":1.012,\\\"22\\\":1.004,\\\"23\\\":1.016,\\\"24\\\":1.016,\\\"25\\\":1.008,\\\"26\\\":0.977,\\\"27\\\":0.996,\\\"28\\\":0.961,\\\"29\\\":1.023,\\\"30\\\":0.98,\\\"31\\\":1.008},\\\"y\\\":{\\\"0\\\":0.012,\\\"1\\\":0.012,\\\"2\\\":0.082,\\\"3\\\":0.012,\\\"4\\\":0.086,\\\"5\\\":0.031,\\\"6\\\":-0.008,\\\"7\\\":-0.043,\\\"8\\\":0.012,\\\"9\\\":0.043,\\\"10\\\":0.008,\\\"11\\\":0.074,\\\"12\\\":-0.047,\\\"13\\\":0.027,\\\"14\\\":-0.031,\\\"15\\\":0.016,\\\"16\\\":-0.008,\\\"17\\\":-0.012,\\\"18\\\":-0.023,\\\"19\\\":0.023,\\\"20\\\":-0.004,\\\"21\\\":0.012,\\\"22\\\":-0.027,\\\"23\\\":0.0,\\\"24\\\":-0.043,\\\"25\\\":-0.008,\\\"26\\\":0.012,\\\"27\\\":-0.051,\\\"28\\\":0.016,\\\"29\\\":0.047,\\\"30\\\":0.059,\\\"31\\\":0.0},\\\"z\\\":{\\\"0\\\":-0.133,\\\"1\\\":-0.113,\\\"2\\\":-0.145,\\\"3\\\":-0.113,\\\"4\\\":-0.141,\\\"5\\\":-0.117,\\\"6\\\":-0.145,\\\"7\\\":-0.121,\\\"8\\\":-0.121,\\\"9\\\":-0.129,\\\"10\\\":-0.102,\\\"11\\\":-0.121,\\\"12\\\":-0.152,\\\"13\\\":-0.113,\\\"14\\\":-0.109,\\\"15\\\":-0.184,\\\"16\\\":-0.129,\\\"17\\\":-0.145,\\\"18\\\":-0.137,\\\"19\\\":-0.102,\\\"20\\\":-0.133,\\\"21\\\":-0.113,\\\"22\\\":-0.117,\\\"23\\\":-0.187,\\\"24\\\":-0.141,\\\"25\\\":-0.125,\\\"26\\\":-0.125,\\\"27\\\":-0.109,\\\"28\\\":-0.145,\\\"29\\\":-0.129,\\\"30\\\":-0.105,\\\"31\\\":-0.148}}\",\"info\":\"24 samples (476 remaining).\"}\n"
     ]
    }
   ],
   "source": [
    "api_key = \"94d15fb2-75c4-4439-97bb-9927089c6698\"\n",
    "server_url = 'https://esgf-server-staging.herokuapp.com'\n",
    "service_name = 'get_inference_data'\n",
    "params = f\"?api_key={api_key}\"\n",
    "headers = {\n",
    "       'Accept': 'application/json',\n",
    "       'Authorization' : f\"Bearer {api_key}\"\n",
    "}\n",
    "response = requests.get(f\"{server_url}/{service_name}{params}\", headers=headers)\n",
    "print(response.text)\n",
    "assert response.status_code == 200"
   ]
  },
  {
   "cell_type": "markdown",
   "metadata": {
    "id": "AYxCA6BHLZ36"
   },
   "source": [
    "Sample"
   ]
  },
  {
   "cell_type": "code",
   "execution_count": 22,
   "metadata": {
    "colab": {
     "base_uri": "https://localhost:8080/"
    },
    "id": "6LtjQhcE57YI",
    "outputId": "6349f53e-43b3-4b2b-ca0c-ed6132ff7885"
   },
   "outputs": [
    {
     "name": "stdout",
     "output_type": "stream",
     "text": [
      "Sample ID='cGIG358IM97cnNab' has shape (32, 5)\n"
     ]
    }
   ],
   "source": [
    "# Server answer as json. Dictionary with keys 'id' and 'x'\n",
    "json_answer = response.json()\n",
    "\n",
    "# Example id\n",
    "example_id = json_answer['id']\n",
    "\n",
    "# Parse str answer as json object\n",
    "json_answer = json.loads(json_answer['x'])\n",
    "\n",
    "# Frame answer\n",
    "pd_sample = pd.DataFrame(json_answer)\n",
    "\n",
    "# Logs. You should have (32,5).\n",
    "print(\"Sample ID='{}' has shape {}\".format(example_id, pd_sample.shape))"
   ]
  },
  {
   "cell_type": "code",
   "execution_count": 23,
   "metadata": {
    "colab": {
     "base_uri": "https://localhost:8080/",
     "height": 1000
    },
    "id": "a4tNGrTiIiQh",
    "outputId": "da19195d-604b-4f9d-9100-fadbdba7759a"
   },
   "outputs": [
    {
     "data": {
      "text/html": [
       "<div>\n",
       "<style scoped>\n",
       "    .dataframe tbody tr th:only-of-type {\n",
       "        vertical-align: middle;\n",
       "    }\n",
       "\n",
       "    .dataframe tbody tr th {\n",
       "        vertical-align: top;\n",
       "    }\n",
       "\n",
       "    .dataframe thead th {\n",
       "        text-align: right;\n",
       "    }\n",
       "</style>\n",
       "<table border=\"1\" class=\"dataframe\">\n",
       "  <thead>\n",
       "    <tr style=\"text-align: right;\">\n",
       "      <th></th>\n",
       "      <th>wconfid</th>\n",
       "      <th>pctid</th>\n",
       "      <th>x</th>\n",
       "      <th>y</th>\n",
       "      <th>z</th>\n",
       "    </tr>\n",
       "  </thead>\n",
       "  <tbody>\n",
       "    <tr>\n",
       "      <th>0</th>\n",
       "      <td>1</td>\n",
       "      <td>30</td>\n",
       "      <td>0.953</td>\n",
       "      <td>0.012</td>\n",
       "      <td>-0.133</td>\n",
       "    </tr>\n",
       "    <tr>\n",
       "      <th>1</th>\n",
       "      <td>1</td>\n",
       "      <td>30</td>\n",
       "      <td>0.996</td>\n",
       "      <td>0.012</td>\n",
       "      <td>-0.113</td>\n",
       "    </tr>\n",
       "    <tr>\n",
       "      <th>2</th>\n",
       "      <td>1</td>\n",
       "      <td>30</td>\n",
       "      <td>1.004</td>\n",
       "      <td>0.082</td>\n",
       "      <td>-0.145</td>\n",
       "    </tr>\n",
       "    <tr>\n",
       "      <th>3</th>\n",
       "      <td>1</td>\n",
       "      <td>30</td>\n",
       "      <td>1.008</td>\n",
       "      <td>0.012</td>\n",
       "      <td>-0.113</td>\n",
       "    </tr>\n",
       "    <tr>\n",
       "      <th>4</th>\n",
       "      <td>1</td>\n",
       "      <td>30</td>\n",
       "      <td>1.016</td>\n",
       "      <td>0.086</td>\n",
       "      <td>-0.141</td>\n",
       "    </tr>\n",
       "    <tr>\n",
       "      <th>5</th>\n",
       "      <td>1</td>\n",
       "      <td>30</td>\n",
       "      <td>1.023</td>\n",
       "      <td>0.031</td>\n",
       "      <td>-0.117</td>\n",
       "    </tr>\n",
       "    <tr>\n",
       "      <th>6</th>\n",
       "      <td>1</td>\n",
       "      <td>30</td>\n",
       "      <td>1.027</td>\n",
       "      <td>-0.008</td>\n",
       "      <td>-0.145</td>\n",
       "    </tr>\n",
       "    <tr>\n",
       "      <th>7</th>\n",
       "      <td>1</td>\n",
       "      <td>30</td>\n",
       "      <td>1.004</td>\n",
       "      <td>-0.043</td>\n",
       "      <td>-0.121</td>\n",
       "    </tr>\n",
       "    <tr>\n",
       "      <th>8</th>\n",
       "      <td>1</td>\n",
       "      <td>30</td>\n",
       "      <td>0.984</td>\n",
       "      <td>0.012</td>\n",
       "      <td>-0.121</td>\n",
       "    </tr>\n",
       "    <tr>\n",
       "      <th>9</th>\n",
       "      <td>1</td>\n",
       "      <td>30</td>\n",
       "      <td>1.012</td>\n",
       "      <td>0.043</td>\n",
       "      <td>-0.129</td>\n",
       "    </tr>\n",
       "    <tr>\n",
       "      <th>10</th>\n",
       "      <td>1</td>\n",
       "      <td>30</td>\n",
       "      <td>1.055</td>\n",
       "      <td>0.008</td>\n",
       "      <td>-0.102</td>\n",
       "    </tr>\n",
       "    <tr>\n",
       "      <th>11</th>\n",
       "      <td>1</td>\n",
       "      <td>30</td>\n",
       "      <td>1.023</td>\n",
       "      <td>0.074</td>\n",
       "      <td>-0.121</td>\n",
       "    </tr>\n",
       "    <tr>\n",
       "      <th>12</th>\n",
       "      <td>1</td>\n",
       "      <td>30</td>\n",
       "      <td>1.023</td>\n",
       "      <td>-0.047</td>\n",
       "      <td>-0.152</td>\n",
       "    </tr>\n",
       "    <tr>\n",
       "      <th>13</th>\n",
       "      <td>1</td>\n",
       "      <td>30</td>\n",
       "      <td>1.008</td>\n",
       "      <td>0.027</td>\n",
       "      <td>-0.113</td>\n",
       "    </tr>\n",
       "    <tr>\n",
       "      <th>14</th>\n",
       "      <td>1</td>\n",
       "      <td>30</td>\n",
       "      <td>1.020</td>\n",
       "      <td>-0.031</td>\n",
       "      <td>-0.109</td>\n",
       "    </tr>\n",
       "    <tr>\n",
       "      <th>15</th>\n",
       "      <td>1</td>\n",
       "      <td>30</td>\n",
       "      <td>1.043</td>\n",
       "      <td>0.016</td>\n",
       "      <td>-0.184</td>\n",
       "    </tr>\n",
       "    <tr>\n",
       "      <th>16</th>\n",
       "      <td>1</td>\n",
       "      <td>30</td>\n",
       "      <td>0.980</td>\n",
       "      <td>-0.008</td>\n",
       "      <td>-0.129</td>\n",
       "    </tr>\n",
       "    <tr>\n",
       "      <th>17</th>\n",
       "      <td>1</td>\n",
       "      <td>30</td>\n",
       "      <td>0.953</td>\n",
       "      <td>-0.012</td>\n",
       "      <td>-0.145</td>\n",
       "    </tr>\n",
       "    <tr>\n",
       "      <th>18</th>\n",
       "      <td>1</td>\n",
       "      <td>30</td>\n",
       "      <td>1.047</td>\n",
       "      <td>-0.023</td>\n",
       "      <td>-0.137</td>\n",
       "    </tr>\n",
       "    <tr>\n",
       "      <th>19</th>\n",
       "      <td>1</td>\n",
       "      <td>30</td>\n",
       "      <td>1.004</td>\n",
       "      <td>0.023</td>\n",
       "      <td>-0.102</td>\n",
       "    </tr>\n",
       "    <tr>\n",
       "      <th>20</th>\n",
       "      <td>1</td>\n",
       "      <td>30</td>\n",
       "      <td>0.980</td>\n",
       "      <td>-0.004</td>\n",
       "      <td>-0.133</td>\n",
       "    </tr>\n",
       "    <tr>\n",
       "      <th>21</th>\n",
       "      <td>1</td>\n",
       "      <td>30</td>\n",
       "      <td>1.012</td>\n",
       "      <td>0.012</td>\n",
       "      <td>-0.113</td>\n",
       "    </tr>\n",
       "    <tr>\n",
       "      <th>22</th>\n",
       "      <td>1</td>\n",
       "      <td>30</td>\n",
       "      <td>1.004</td>\n",
       "      <td>-0.027</td>\n",
       "      <td>-0.117</td>\n",
       "    </tr>\n",
       "    <tr>\n",
       "      <th>23</th>\n",
       "      <td>1</td>\n",
       "      <td>30</td>\n",
       "      <td>1.016</td>\n",
       "      <td>0.000</td>\n",
       "      <td>-0.187</td>\n",
       "    </tr>\n",
       "    <tr>\n",
       "      <th>24</th>\n",
       "      <td>1</td>\n",
       "      <td>30</td>\n",
       "      <td>1.016</td>\n",
       "      <td>-0.043</td>\n",
       "      <td>-0.141</td>\n",
       "    </tr>\n",
       "    <tr>\n",
       "      <th>25</th>\n",
       "      <td>1</td>\n",
       "      <td>30</td>\n",
       "      <td>1.008</td>\n",
       "      <td>-0.008</td>\n",
       "      <td>-0.125</td>\n",
       "    </tr>\n",
       "    <tr>\n",
       "      <th>26</th>\n",
       "      <td>1</td>\n",
       "      <td>30</td>\n",
       "      <td>0.977</td>\n",
       "      <td>0.012</td>\n",
       "      <td>-0.125</td>\n",
       "    </tr>\n",
       "    <tr>\n",
       "      <th>27</th>\n",
       "      <td>1</td>\n",
       "      <td>30</td>\n",
       "      <td>0.996</td>\n",
       "      <td>-0.051</td>\n",
       "      <td>-0.109</td>\n",
       "    </tr>\n",
       "    <tr>\n",
       "      <th>28</th>\n",
       "      <td>1</td>\n",
       "      <td>30</td>\n",
       "      <td>0.961</td>\n",
       "      <td>0.016</td>\n",
       "      <td>-0.145</td>\n",
       "    </tr>\n",
       "    <tr>\n",
       "      <th>29</th>\n",
       "      <td>1</td>\n",
       "      <td>30</td>\n",
       "      <td>1.023</td>\n",
       "      <td>0.047</td>\n",
       "      <td>-0.129</td>\n",
       "    </tr>\n",
       "    <tr>\n",
       "      <th>30</th>\n",
       "      <td>1</td>\n",
       "      <td>30</td>\n",
       "      <td>0.980</td>\n",
       "      <td>0.059</td>\n",
       "      <td>-0.105</td>\n",
       "    </tr>\n",
       "    <tr>\n",
       "      <th>31</th>\n",
       "      <td>1</td>\n",
       "      <td>30</td>\n",
       "      <td>1.008</td>\n",
       "      <td>0.000</td>\n",
       "      <td>-0.148</td>\n",
       "    </tr>\n",
       "  </tbody>\n",
       "</table>\n",
       "</div>"
      ],
      "text/plain": [
       "    wconfid  pctid      x      y      z\n",
       "0         1     30  0.953  0.012 -0.133\n",
       "1         1     30  0.996  0.012 -0.113\n",
       "2         1     30  1.004  0.082 -0.145\n",
       "3         1     30  1.008  0.012 -0.113\n",
       "4         1     30  1.016  0.086 -0.141\n",
       "5         1     30  1.023  0.031 -0.117\n",
       "6         1     30  1.027 -0.008 -0.145\n",
       "7         1     30  1.004 -0.043 -0.121\n",
       "8         1     30  0.984  0.012 -0.121\n",
       "9         1     30  1.012  0.043 -0.129\n",
       "10        1     30  1.055  0.008 -0.102\n",
       "11        1     30  1.023  0.074 -0.121\n",
       "12        1     30  1.023 -0.047 -0.152\n",
       "13        1     30  1.008  0.027 -0.113\n",
       "14        1     30  1.020 -0.031 -0.109\n",
       "15        1     30  1.043  0.016 -0.184\n",
       "16        1     30  0.980 -0.008 -0.129\n",
       "17        1     30  0.953 -0.012 -0.145\n",
       "18        1     30  1.047 -0.023 -0.137\n",
       "19        1     30  1.004  0.023 -0.102\n",
       "20        1     30  0.980 -0.004 -0.133\n",
       "21        1     30  1.012  0.012 -0.113\n",
       "22        1     30  1.004 -0.027 -0.117\n",
       "23        1     30  1.016  0.000 -0.187\n",
       "24        1     30  1.016 -0.043 -0.141\n",
       "25        1     30  1.008 -0.008 -0.125\n",
       "26        1     30  0.977  0.012 -0.125\n",
       "27        1     30  0.996 -0.051 -0.109\n",
       "28        1     30  0.961  0.016 -0.145\n",
       "29        1     30  1.023  0.047 -0.129\n",
       "30        1     30  0.980  0.059 -0.105\n",
       "31        1     30  1.008  0.000 -0.148"
      ]
     },
     "execution_count": 23,
     "metadata": {},
     "output_type": "execute_result"
    }
   ],
   "source": [
    "pd_sample"
   ]
  },
  {
   "cell_type": "code",
   "execution_count": 24,
   "metadata": {},
   "outputs": [
    {
     "name": "stdout",
     "output_type": "stream",
     "text": [
      "(32, 5)\n"
     ]
    },
    {
     "data": {
      "text/html": [
       "<div>\n",
       "<style scoped>\n",
       "    .dataframe tbody tr th:only-of-type {\n",
       "        vertical-align: middle;\n",
       "    }\n",
       "\n",
       "    .dataframe tbody tr th {\n",
       "        vertical-align: top;\n",
       "    }\n",
       "\n",
       "    .dataframe thead th {\n",
       "        text-align: right;\n",
       "    }\n",
       "</style>\n",
       "<table border=\"1\" class=\"dataframe\">\n",
       "  <thead>\n",
       "    <tr style=\"text-align: right;\">\n",
       "      <th></th>\n",
       "      <th>wconfid</th>\n",
       "      <th>pctid</th>\n",
       "      <th>x</th>\n",
       "      <th>y</th>\n",
       "      <th>z</th>\n",
       "    </tr>\n",
       "  </thead>\n",
       "  <tbody>\n",
       "    <tr>\n",
       "      <th>27</th>\n",
       "      <td>1</td>\n",
       "      <td>30</td>\n",
       "      <td>0.996</td>\n",
       "      <td>-0.051</td>\n",
       "      <td>-0.109</td>\n",
       "    </tr>\n",
       "    <tr>\n",
       "      <th>28</th>\n",
       "      <td>1</td>\n",
       "      <td>30</td>\n",
       "      <td>0.961</td>\n",
       "      <td>0.016</td>\n",
       "      <td>-0.145</td>\n",
       "    </tr>\n",
       "    <tr>\n",
       "      <th>29</th>\n",
       "      <td>1</td>\n",
       "      <td>30</td>\n",
       "      <td>1.023</td>\n",
       "      <td>0.047</td>\n",
       "      <td>-0.129</td>\n",
       "    </tr>\n",
       "    <tr>\n",
       "      <th>30</th>\n",
       "      <td>1</td>\n",
       "      <td>30</td>\n",
       "      <td>0.980</td>\n",
       "      <td>0.059</td>\n",
       "      <td>-0.105</td>\n",
       "    </tr>\n",
       "    <tr>\n",
       "      <th>31</th>\n",
       "      <td>1</td>\n",
       "      <td>30</td>\n",
       "      <td>1.008</td>\n",
       "      <td>0.000</td>\n",
       "      <td>-0.148</td>\n",
       "    </tr>\n",
       "  </tbody>\n",
       "</table>\n",
       "</div>"
      ],
      "text/plain": [
       "    wconfid  pctid      x      y      z\n",
       "27        1     30  0.996 -0.051 -0.109\n",
       "28        1     30  0.961  0.016 -0.145\n",
       "29        1     30  1.023  0.047 -0.129\n",
       "30        1     30  0.980  0.059 -0.105\n",
       "31        1     30  1.008  0.000 -0.148"
      ]
     },
     "execution_count": 24,
     "metadata": {},
     "output_type": "execute_result"
    }
   ],
   "source": [
    "print(pd_sample.shape)  # (32, 5)\n",
    "pd_sample.tail()\n",
    "     "
   ]
  },
  {
   "cell_type": "code",
   "execution_count": 25,
   "metadata": {},
   "outputs": [
    {
     "name": "stdout",
     "output_type": "stream",
     "text": [
      "(32, 3)\n"
     ]
    }
   ],
   "source": [
    "macro_data = pd_sample[['x','y','z']]\n",
    "print(macro_data.shape)"
   ]
  },
  {
   "cell_type": "code",
   "execution_count": 26,
   "metadata": {},
   "outputs": [],
   "source": [
    "train_df=macro_data[:-12]\n",
    "test_df=macro_data[-12:]"
   ]
  },
  {
   "cell_type": "code",
   "execution_count": 27,
   "metadata": {},
   "outputs": [
    {
     "name": "stdout",
     "output_type": "stream",
     "text": [
      "(12, 3)\n"
     ]
    }
   ],
   "source": [
    "print(test_df.shape)"
   ]
  },
  {
   "cell_type": "code",
   "execution_count": 28,
   "metadata": {},
   "outputs": [],
   "source": [
    "model = VAR(train_df.diff()[1:])"
   ]
  },
  {
   "cell_type": "code",
   "execution_count": 29,
   "metadata": {},
   "outputs": [
    {
     "name": "stdout",
     "output_type": "stream",
     "text": [
      " VAR Order Selection (* highlights the minimums) \n",
      "=================================================\n",
      "      AIC         BIC         FPE         HQIC   \n",
      "-------------------------------------------------\n",
      "0      -19.04      -18.90   5.372e-09      -19.04\n",
      "1      -19.26      -18.68   4.446e-09      -19.23\n",
      "2      -21.93     -20.92*  3.616e-10*      -21.88\n",
      "3     -22.06*      -20.61   5.046e-10     -21.98*\n",
      "-------------------------------------------------\n"
     ]
    }
   ],
   "source": [
    "sorted_order=model.select_order(maxlags=3)\n",
    "print(sorted_order.summary())\n"
   ]
  },
  {
   "cell_type": "code",
   "execution_count": 30,
   "metadata": {},
   "outputs": [
    {
     "name": "stdout",
     "output_type": "stream",
     "text": [
      "                           Statespace Model Results                           \n",
      "==============================================================================\n",
      "Dep. Variable:        ['x', 'y', 'z']   No. Observations:                   20\n",
      "Model:                         VAR(4)   Log Likelihood                 147.223\n",
      "                          + intercept   AIC                           -204.445\n",
      "Date:                Thu, 23 Feb 2023   BIC                           -159.637\n",
      "Time:                        12:23:48   HQIC                          -195.698\n",
      "Sample:                             0                                         \n",
      "                                 - 20                                         \n",
      "Covariance Type:                  opg                                         \n",
      "====================================================================================\n",
      "Ljung-Box (L1) (Q):       0.34, 0.55, 0.04   Jarque-Bera (JB):      2.29, 0.98, 2.20\n",
      "Prob(Q):                  0.56, 0.46, 0.84   Prob(JB):              0.32, 0.61, 0.33\n",
      "Heteroskedasticity (H):   0.50, 0.17, 4.88   Skew:               -0.63, -0.03, -0.80\n",
      "Prob(H) (two-sided):      0.38, 0.03, 0.05   Kurtosis:              4.06, 1.92, 3.32\n",
      "                            Results for equation x                            \n",
      "==============================================================================\n",
      "                 coef    std err          z      P>|z|      [0.025      0.975]\n",
      "------------------------------------------------------------------------------\n",
      "intercept      1.0285      0.052     19.854      0.000       0.927       1.130\n",
      "L1.x           0.0641      0.065      0.986      0.324      -0.063       0.192\n",
      "L1.y           0.0944      0.054      1.761      0.078      -0.011       0.199\n",
      "L1.z           0.3771      0.074      5.121      0.000       0.233       0.521\n",
      "L2.x          -0.1702      0.145     -1.173      0.241      -0.455       0.114\n",
      "L2.y           0.1406      0.145      0.971      0.331      -0.143       0.424\n",
      "L2.z           0.3094      0.102      3.040      0.002       0.110       0.509\n",
      "L3.x           0.0822      0.055      1.485      0.138      -0.026       0.191\n",
      "L3.y          -0.0716      0.172     -0.416      0.678      -0.410       0.266\n",
      "L3.z          -0.4531      0.068     -6.711      0.000      -0.585      -0.321\n",
      "L4.x           0.0493      0.050      0.985      0.325      -0.049       0.147\n",
      "L4.y          -0.0327      0.085     -0.384      0.701      -0.200       0.134\n",
      "L4.z           0.1236      0.050      2.465      0.014       0.025       0.222\n",
      "                            Results for equation y                            \n",
      "==============================================================================\n",
      "                 coef    std err          z      P>|z|      [0.025      0.975]\n",
      "------------------------------------------------------------------------------\n",
      "intercept      0.1210      0.055      2.196      0.028       0.013       0.229\n",
      "L1.x           0.1412      0.104      1.357      0.175      -0.063       0.345\n",
      "L1.y           0.0926      0.175      0.531      0.596      -0.249       0.435\n",
      "L1.z           0.4514      0.068      6.648      0.000       0.318       0.584\n",
      "L2.x          -0.2712      0.089     -3.050      0.002      -0.445      -0.097\n",
      "L2.y           0.1978      0.141      1.404      0.160      -0.078       0.474\n",
      "L2.z          -0.0833      0.104     -0.798      0.425      -0.288       0.121\n",
      "L3.x           0.0646      0.099      0.655      0.513      -0.129       0.258\n",
      "L3.y          -0.1703      0.157     -1.086      0.278      -0.478       0.137\n",
      "L3.z           0.0876      0.050      1.765      0.078      -0.010       0.185\n",
      "L4.x          -0.0235      0.117     -0.202      0.840      -0.252       0.205\n",
      "L4.y          -0.0434      0.133     -0.326      0.744      -0.304       0.217\n",
      "L4.z          -0.2890      0.074     -3.915      0.000      -0.434      -0.144\n",
      "                            Results for equation z                            \n",
      "==============================================================================\n",
      "                 coef    std err          z      P>|z|      [0.025      0.975]\n",
      "------------------------------------------------------------------------------\n",
      "intercept     -0.1357      0.046     -2.951      0.003      -0.226      -0.046\n",
      "L1.x          -0.0278      0.111     -0.251      0.802      -0.245       0.190\n",
      "L1.y           0.0214      0.102      0.209      0.834      -0.179       0.221\n",
      "L1.z          -0.0522      0.120     -0.434      0.664      -0.288       0.183\n",
      "L2.x          -0.0741      0.143     -0.517      0.605      -0.355       0.207\n",
      "L2.y          -0.0146      0.170     -0.086      0.932      -0.348       0.319\n",
      "L2.z           0.0952      0.095      0.998      0.318      -0.092       0.282\n",
      "L3.x          -0.1084      0.081     -1.339      0.180      -0.267       0.050\n",
      "L3.y           0.1050      0.119      0.886      0.376      -0.127       0.337\n",
      "L3.z           0.0368      0.111      0.330      0.741      -0.181       0.255\n",
      "L4.x           0.2047      0.079      2.600      0.009       0.050       0.359\n",
      "L4.y          -0.1398      0.091     -1.539      0.124      -0.318       0.038\n",
      "L4.z          -0.1737      0.070     -2.464      0.014      -0.312      -0.036\n",
      "                            Error covariance matrix                             \n",
      "================================================================================\n",
      "                   coef    std err          z      P>|z|      [0.025      0.975]\n",
      "--------------------------------------------------------------------------------\n",
      "sqrt.var.x       0.0217      0.008      2.875      0.004       0.007       0.036\n",
      "sqrt.cov.x.y     0.0045      0.020      0.224      0.823      -0.035       0.044\n",
      "sqrt.var.y       0.0271      0.013      2.027      0.043       0.001       0.053\n",
      "sqrt.cov.x.z     0.0030      0.021      0.141      0.888      -0.038       0.044\n",
      "sqrt.cov.y.z     0.0003      0.010      0.030      0.976      -0.018       0.019\n",
      "sqrt.var.z       0.0143      0.007      2.041      0.041       0.001       0.028\n",
      "================================================================================\n",
      "\n",
      "Warnings:\n",
      "[1] Covariance matrix calculated using the outer product of gradients (complex-step).\n",
      "[2] Covariance matrix is singular or near-singular, with condition number 8.12e+17. Standard errors may be unstable.\n"
     ]
    }
   ],
   "source": [
    "var_model = VARMAX(train_df, order=(4,0),enforce_stationarity= True)\n",
    "fitted_model = var_model.fit(disp=False)\n",
    "print(fitted_model.summary())"
   ]
  },
  {
   "cell_type": "code",
   "execution_count": 31,
   "metadata": {},
   "outputs": [],
   "source": [
    "n_forecast = 300\n",
    "predict = fitted_model.get_prediction(start=len(train_df),end=len(train_df) + n_forecast-1)\n",
    "\n",
    "predictions=predict.predicted_mean\n"
   ]
  },
  {
   "cell_type": "code",
   "execution_count": 32,
   "metadata": {},
   "outputs": [
    {
     "data": {
      "text/html": [
       "<div>\n",
       "<style scoped>\n",
       "    .dataframe tbody tr th:only-of-type {\n",
       "        vertical-align: middle;\n",
       "    }\n",
       "\n",
       "    .dataframe tbody tr th {\n",
       "        vertical-align: top;\n",
       "    }\n",
       "\n",
       "    .dataframe thead th {\n",
       "        text-align: right;\n",
       "    }\n",
       "</style>\n",
       "<table border=\"1\" class=\"dataframe\">\n",
       "  <thead>\n",
       "    <tr style=\"text-align: right;\">\n",
       "      <th></th>\n",
       "      <th>x_predicted</th>\n",
       "      <th>y_predicted</th>\n",
       "      <th>z_predicted</th>\n",
       "    </tr>\n",
       "  </thead>\n",
       "  <tbody>\n",
       "    <tr>\n",
       "      <th>20</th>\n",
       "      <td>1.010223</td>\n",
       "      <td>0.007212</td>\n",
       "      <td>-0.133812</td>\n",
       "    </tr>\n",
       "    <tr>\n",
       "      <th>21</th>\n",
       "      <td>1.023455</td>\n",
       "      <td>0.024188</td>\n",
       "      <td>-0.140054</td>\n",
       "    </tr>\n",
       "    <tr>\n",
       "      <th>22</th>\n",
       "      <td>0.993724</td>\n",
       "      <td>0.011060</td>\n",
       "      <td>-0.112822</td>\n",
       "    </tr>\n",
       "    <tr>\n",
       "      <th>23</th>\n",
       "      <td>1.015815</td>\n",
       "      <td>0.007435</td>\n",
       "      <td>-0.140336</td>\n",
       "    </tr>\n",
       "    <tr>\n",
       "      <th>24</th>\n",
       "      <td>1.017741</td>\n",
       "      <td>0.008141</td>\n",
       "      <td>-0.125477</td>\n",
       "    </tr>\n",
       "    <tr>\n",
       "      <th>...</th>\n",
       "      <td>...</td>\n",
       "      <td>...</td>\n",
       "      <td>...</td>\n",
       "    </tr>\n",
       "    <tr>\n",
       "      <th>315</th>\n",
       "      <td>1.009235</td>\n",
       "      <td>0.010437</td>\n",
       "      <td>-0.129446</td>\n",
       "    </tr>\n",
       "    <tr>\n",
       "      <th>316</th>\n",
       "      <td>1.009235</td>\n",
       "      <td>0.010437</td>\n",
       "      <td>-0.129446</td>\n",
       "    </tr>\n",
       "    <tr>\n",
       "      <th>317</th>\n",
       "      <td>1.009235</td>\n",
       "      <td>0.010437</td>\n",
       "      <td>-0.129446</td>\n",
       "    </tr>\n",
       "    <tr>\n",
       "      <th>318</th>\n",
       "      <td>1.009235</td>\n",
       "      <td>0.010437</td>\n",
       "      <td>-0.129446</td>\n",
       "    </tr>\n",
       "    <tr>\n",
       "      <th>319</th>\n",
       "      <td>1.009235</td>\n",
       "      <td>0.010437</td>\n",
       "      <td>-0.129446</td>\n",
       "    </tr>\n",
       "  </tbody>\n",
       "</table>\n",
       "<p>300 rows × 3 columns</p>\n",
       "</div>"
      ],
      "text/plain": [
       "     x_predicted  y_predicted  z_predicted\n",
       "20      1.010223     0.007212    -0.133812\n",
       "21      1.023455     0.024188    -0.140054\n",
       "22      0.993724     0.011060    -0.112822\n",
       "23      1.015815     0.007435    -0.140336\n",
       "24      1.017741     0.008141    -0.125477\n",
       "..           ...          ...          ...\n",
       "315     1.009235     0.010437    -0.129446\n",
       "316     1.009235     0.010437    -0.129446\n",
       "317     1.009235     0.010437    -0.129446\n",
       "318     1.009235     0.010437    -0.129446\n",
       "319     1.009235     0.010437    -0.129446\n",
       "\n",
       "[300 rows x 3 columns]"
      ]
     },
     "execution_count": 32,
     "metadata": {},
     "output_type": "execute_result"
    }
   ],
   "source": [
    "predictions.columns=['x_predicted','y_predicted','z_predicted']\n",
    "predictions"
   ]
  },
  {
   "attachments": {},
   "cell_type": "markdown",
   "metadata": {},
   "source": [
    "***\" t= 32\t     //          x= 0.972211\t  //               y=0.002333\t      //               z =-0.112556\"***"
   ]
  },
  {
   "cell_type": "code",
   "execution_count": 33,
   "metadata": {},
   "outputs": [],
   "source": [
    "test_vs_pred=pd.concat([test_df,predictions],axis=1)"
   ]
  },
  {
   "cell_type": "code",
   "execution_count": 34,
   "metadata": {},
   "outputs": [
    {
     "data": {
      "text/plain": [
       "<AxesSubplot:>"
      ]
     },
     "execution_count": 34,
     "metadata": {},
     "output_type": "execute_result"
    },
    {
     "data": {
      "image/png": "[encoded data removed]",
      "text/plain": [
       "<Figure size 1200x500 with 1 Axes>"
      ]
     },
     "metadata": {},
     "output_type": "display_data"
    }
   ],
   "source": [
    "test_vs_pred.plot(figsize=(12,5))"
   ]
  },
  {
   "attachments": {},
   "cell_type": "markdown",
   "metadata": {},
   "source": [
    "***\" t= 32\t     //          x= 0.972211\t  //               y=0.002333\t      //               z =-0.112556\"***"
   ]
  },
  {
   "cell_type": "code",
   "execution_count": 35,
   "metadata": {},
   "outputs": [],
   "source": [
    "#https://esgf-server-staging.herokuapp.com/predict?api_key=94d15fb2-75c4-4439-97bb-9927089c6698&example_id=2vYbLYtMfXTkPpKe&prediction=0.972211,0.002333,-0.112556"
   ]
  },
  {
   "cell_type": "code",
   "execution_count": 36,
   "metadata": {},
   "outputs": [
    {
     "name": "stdout",
     "output_type": "stream",
     "text": [
      "{\"rmse_example\":0.038435351205103455,\"submissions\":1,\"remaining\":499}\n"
     ]
    }
   ],
   "source": [
    "api_key = \"94d15fb2-75c4-4439-97bb-9927089c6698\"\n",
    "server_url = 'https://esgf-server-staging.herokuapp.com'\n",
    "example_id =\"2vYbLYtMfXTkPpKe\"\n",
    "prediction=\"0.972211,0.002333,-0.112556\"\n",
    "service_name = 'predict'\n",
    "params = f\"?api_key={api_key}&example_id={example_id}&prediction={prediction}\"\n",
    "headers = {\n",
    "       'Accept': 'application/json',\n",
    "       'Authorization' : f\"Bearer {api_key}\"\n",
    "}\n",
    "response = requests.get(f\"{server_url}/{service_name}{params}\", headers=headers)\n",
    "print(response.text)\n",
    "assert response.status_code == 200"
   ]
  },
  {
   "cell_type": "code",
   "execution_count": null,
   "metadata": {},
   "outputs": [],
   "source": []
  },
  {
   "cell_type": "code",
   "execution_count": null,
   "metadata": {},
   "outputs": [],
   "source": []
  },
  {
   "cell_type": "code",
   "execution_count": null,
   "metadata": {},
   "outputs": [],
   "source": []
  },
  {
   "cell_type": "code",
   "execution_count": null,
   "metadata": {},
   "outputs": [],
   "source": []
  }
 ],
 "metadata": {
  "colab": {
   "provenance": []
  },
  "kernelspec": {
   "display_name": "Python 3 (ipykernel)",
   "language": "python",
   "name": "python3"
  },
  "language_info": {
   "codemirror_mode": {
    "name": "ipython",
    "version": 3
   },
   "file_extension": ".py",
   "mimetype": "text/x-python",
   "name": "python",
   "nbconvert_exporter": "python",
   "pygments_lexer": "ipython3",
   "version": "3.9.13"
  },
  "vscode": {
   "interpreter": {
    "hash": "91fb979da934b52a8672b3c9d45fe70f75468a1bb10d704ef6e1dbf8149cf7d5"
   }
  }
 },
 "nbformat": 4,
 "nbformat_minor": 1
}
